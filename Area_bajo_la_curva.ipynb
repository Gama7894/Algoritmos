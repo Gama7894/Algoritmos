{
  "nbformat": 4,
  "nbformat_minor": 0,
  "metadata": {
    "colab": {
      "provenance": [],
      "authorship_tag": "ABX9TyOr1bRe9h+GkcBIhpDm23Ww",
      "include_colab_link": true
    },
    "kernelspec": {
      "name": "python3",
      "display_name": "Python 3"
    },
    "language_info": {
      "name": "python"
    }
  },
  "cells": [
    {
      "cell_type": "markdown",
      "metadata": {
        "id": "view-in-github",
        "colab_type": "text"
      },
      "source": [
        "<a href=\"https://colab.research.google.com/github/Gama7894/Algoritmos/blob/main/Area_bajo_la_curva.ipynb\" target=\"_parent\"><img src=\"https://colab.research.google.com/assets/colab-badge.svg\" alt=\"Open In Colab\"/></a>"
      ]
    },
    {
      "cell_type": "code",
      "execution_count": null,
      "metadata": {
        "id": "Aj7LHlk6ZdRj"
      },
      "outputs": [],
      "source": [
        "a = int(input(\"ingrese el limite inferior: \"))\n",
        "b = int(input(\"ingrese el limite superior: \"))\n",
        "n= int(input(\"ingrese la cantidad de rectangulos: \"))\n",
        "area_T = 0\n",
        "for i in range(n+1):\n",
        "\n",
        "  if i > 0:\n",
        "\n",
        "    x = (b - a)/n\n",
        "\n",
        "    M = a + i*x\n",
        "\n",
        "    A = (M*M)+2 #Aqui inserta la funcion que necesite\n",
        "\n",
        "    Area = x*A\n",
        "\n",
        "    area_T = area_T + Area\n",
        "\n",
        "    print(\" \")\n",
        "\n",
        "    print(f\"La base del rectangulo numero {i} es: {x}\")\n",
        "\n",
        "    print(f\"El valor de base del rectangulo numero {i} es: {M}\")\n",
        "\n",
        "    print(f\"El valor de la altura del rectangulo numero {i} es: {A}\")\n",
        "\n",
        "    print(f\"El area del rectangulo numero {i} es: {Area}\")\n",
        "\n",
        "    print(\" \")\n",
        "\n",
        "print(f\"El area aproximada del rectangulo es: {area_T}\")\n",
        "\n",
        "\n"
      ]
    }
  ]
}